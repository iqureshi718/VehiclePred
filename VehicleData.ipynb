{
 "cells": [
  {
   "cell_type": "code",
   "execution_count": 3,
   "id": "cfaaccad-8286-4e47-b2b2-507f0ea2f000",
   "metadata": {},
   "outputs": [],
   "source": [
    "import pandas as pd\n",
    "import numpy as np \n",
    "import matplotlib.pyplot as plt\n",
    "import seaborn as sns\n",
    "import pandasql as psql\n",
    "from unicodedata import normalize"
   ]
  },
  {
   "cell_type": "markdown",
   "id": "d1e23876-8ad6-4200-95d3-9555b3747b22",
   "metadata": {
    "tags": []
   },
   "source": [
    "df=pd.read_csv(\"/Users/imanqureshi/Downloads/Electric_Vehicle_Population_Data_20240202.csv\")\n",
    "df"
   ]
  },
  {
   "cell_type": "code",
   "execution_count": 4,
   "id": "019f54a3-acfe-48b1-8f2c-0955f7494477",
   "metadata": {},
   "outputs": [
    {
     "data": {
      "text/html": [
       "<div>\n",
       "<style scoped>\n",
       "    .dataframe tbody tr th:only-of-type {\n",
       "        vertical-align: middle;\n",
       "    }\n",
       "\n",
       "    .dataframe tbody tr th {\n",
       "        vertical-align: top;\n",
       "    }\n",
       "\n",
       "    .dataframe thead th {\n",
       "        text-align: right;\n",
       "    }\n",
       "</style>\n",
       "<table border=\"1\" class=\"dataframe\">\n",
       "  <thead>\n",
       "    <tr style=\"text-align: right;\">\n",
       "      <th></th>\n",
       "      <th>VIN (1-10)</th>\n",
       "      <th>County</th>\n",
       "      <th>City</th>\n",
       "      <th>State</th>\n",
       "      <th>Postal Code</th>\n",
       "      <th>Model_Year</th>\n",
       "      <th>Make</th>\n",
       "      <th>Model</th>\n",
       "      <th>Electric_Vehicle_Type</th>\n",
       "      <th>Clean Alternative Fuel Vehicle (CAFV) Eligibility</th>\n",
       "      <th>Electric_Range</th>\n",
       "      <th>Base MSRP</th>\n",
       "      <th>Legislative District</th>\n",
       "      <th>DOL Vehicle ID</th>\n",
       "      <th>Vehicle Location</th>\n",
       "      <th>Electric Utility</th>\n",
       "      <th>2020 Census Tract</th>\n",
       "    </tr>\n",
       "  </thead>\n",
       "  <tbody>\n",
       "    <tr>\n",
       "      <th>0</th>\n",
       "      <td>3C3CFFGE4E</td>\n",
       "      <td>Yakima</td>\n",
       "      <td>Yakima</td>\n",
       "      <td>WA</td>\n",
       "      <td>98902.0</td>\n",
       "      <td>2014</td>\n",
       "      <td>FIAT</td>\n",
       "      <td>500</td>\n",
       "      <td>Battery Electric Vehicle (BEV)</td>\n",
       "      <td>Clean Alternative Fuel Vehicle Eligible</td>\n",
       "      <td>87</td>\n",
       "      <td>0</td>\n",
       "      <td>14.0</td>\n",
       "      <td>1593721</td>\n",
       "      <td>POINT (-120.524012 46.5973939)</td>\n",
       "      <td>PACIFICORP</td>\n",
       "      <td>5.307700e+10</td>\n",
       "    </tr>\n",
       "    <tr>\n",
       "      <th>1</th>\n",
       "      <td>5YJXCBE40H</td>\n",
       "      <td>Thurston</td>\n",
       "      <td>Olympia</td>\n",
       "      <td>WA</td>\n",
       "      <td>98513.0</td>\n",
       "      <td>2017</td>\n",
       "      <td>TESLA</td>\n",
       "      <td>MODEL X</td>\n",
       "      <td>Battery Electric Vehicle (BEV)</td>\n",
       "      <td>Clean Alternative Fuel Vehicle Eligible</td>\n",
       "      <td>200</td>\n",
       "      <td>0</td>\n",
       "      <td>2.0</td>\n",
       "      <td>257167501</td>\n",
       "      <td>POINT (-122.817545 46.98876)</td>\n",
       "      <td>PUGET SOUND ENERGY INC</td>\n",
       "      <td>5.306701e+10</td>\n",
       "    </tr>\n",
       "    <tr>\n",
       "      <th>2</th>\n",
       "      <td>3MW39FS03P</td>\n",
       "      <td>King</td>\n",
       "      <td>Renton</td>\n",
       "      <td>WA</td>\n",
       "      <td>98058.0</td>\n",
       "      <td>2023</td>\n",
       "      <td>BMW</td>\n",
       "      <td>330E</td>\n",
       "      <td>Plug-in Hybrid Electric Vehicle (PHEV)</td>\n",
       "      <td>Not eligible due to low battery range</td>\n",
       "      <td>20</td>\n",
       "      <td>0</td>\n",
       "      <td>11.0</td>\n",
       "      <td>224071816</td>\n",
       "      <td>POINT (-122.1298876 47.4451257)</td>\n",
       "      <td>PUGET SOUND ENERGY INC||CITY OF TACOMA - (WA)</td>\n",
       "      <td>5.303303e+10</td>\n",
       "    </tr>\n",
       "    <tr>\n",
       "      <th>3</th>\n",
       "      <td>7PDSGABA8P</td>\n",
       "      <td>Snohomish</td>\n",
       "      <td>Bothell</td>\n",
       "      <td>WA</td>\n",
       "      <td>98012.0</td>\n",
       "      <td>2023</td>\n",
       "      <td>RIVIAN</td>\n",
       "      <td>R1S</td>\n",
       "      <td>Battery Electric Vehicle (BEV)</td>\n",
       "      <td>Eligibility unknown as battery range has not b...</td>\n",
       "      <td>0</td>\n",
       "      <td>0</td>\n",
       "      <td>21.0</td>\n",
       "      <td>260084653</td>\n",
       "      <td>POINT (-122.1873 47.820245)</td>\n",
       "      <td>PUGET SOUND ENERGY INC</td>\n",
       "      <td>5.306105e+10</td>\n",
       "    </tr>\n",
       "    <tr>\n",
       "      <th>4</th>\n",
       "      <td>5YJ3E1EB8L</td>\n",
       "      <td>King</td>\n",
       "      <td>Kent</td>\n",
       "      <td>WA</td>\n",
       "      <td>98031.0</td>\n",
       "      <td>2020</td>\n",
       "      <td>TESLA</td>\n",
       "      <td>MODEL 3</td>\n",
       "      <td>Battery Electric Vehicle (BEV)</td>\n",
       "      <td>Clean Alternative Fuel Vehicle Eligible</td>\n",
       "      <td>322</td>\n",
       "      <td>0</td>\n",
       "      <td>33.0</td>\n",
       "      <td>253771913</td>\n",
       "      <td>POINT (-122.2012521 47.3931814)</td>\n",
       "      <td>PUGET SOUND ENERGY INC||CITY OF TACOMA - (WA)</td>\n",
       "      <td>5.303303e+10</td>\n",
       "    </tr>\n",
       "    <tr>\n",
       "      <th>...</th>\n",
       "      <td>...</td>\n",
       "      <td>...</td>\n",
       "      <td>...</td>\n",
       "      <td>...</td>\n",
       "      <td>...</td>\n",
       "      <td>...</td>\n",
       "      <td>...</td>\n",
       "      <td>...</td>\n",
       "      <td>...</td>\n",
       "      <td>...</td>\n",
       "      <td>...</td>\n",
       "      <td>...</td>\n",
       "      <td>...</td>\n",
       "      <td>...</td>\n",
       "      <td>...</td>\n",
       "      <td>...</td>\n",
       "      <td>...</td>\n",
       "    </tr>\n",
       "    <tr>\n",
       "      <th>166795</th>\n",
       "      <td>3FA6P0SU4D</td>\n",
       "      <td>Spokane</td>\n",
       "      <td>Spokane</td>\n",
       "      <td>WA</td>\n",
       "      <td>99223.0</td>\n",
       "      <td>2013</td>\n",
       "      <td>FORD</td>\n",
       "      <td>FUSION</td>\n",
       "      <td>Plug-in Hybrid Electric Vehicle (PHEV)</td>\n",
       "      <td>Not eligible due to low battery range</td>\n",
       "      <td>19</td>\n",
       "      <td>0</td>\n",
       "      <td>6.0</td>\n",
       "      <td>239527123</td>\n",
       "      <td>POINT (-117.369705 47.62637)</td>\n",
       "      <td>BONNEVILLE POWER ADMINISTRATION||AVISTA CORP||...</td>\n",
       "      <td>5.306300e+10</td>\n",
       "    </tr>\n",
       "    <tr>\n",
       "      <th>166796</th>\n",
       "      <td>5YJYGDEE5M</td>\n",
       "      <td>King</td>\n",
       "      <td>Sammamish</td>\n",
       "      <td>WA</td>\n",
       "      <td>98074.0</td>\n",
       "      <td>2021</td>\n",
       "      <td>TESLA</td>\n",
       "      <td>MODEL Y</td>\n",
       "      <td>Battery Electric Vehicle (BEV)</td>\n",
       "      <td>Eligibility unknown as battery range has not b...</td>\n",
       "      <td>0</td>\n",
       "      <td>0</td>\n",
       "      <td>45.0</td>\n",
       "      <td>148715479</td>\n",
       "      <td>POINT (-122.0313266 47.6285782)</td>\n",
       "      <td>PUGET SOUND ENERGY INC||CITY OF TACOMA - (WA)</td>\n",
       "      <td>5.303303e+10</td>\n",
       "    </tr>\n",
       "    <tr>\n",
       "      <th>166797</th>\n",
       "      <td>7SAYGDEE5N</td>\n",
       "      <td>Snohomish</td>\n",
       "      <td>Mukilteo</td>\n",
       "      <td>WA</td>\n",
       "      <td>98275.0</td>\n",
       "      <td>2022</td>\n",
       "      <td>TESLA</td>\n",
       "      <td>MODEL Y</td>\n",
       "      <td>Battery Electric Vehicle (BEV)</td>\n",
       "      <td>Eligibility unknown as battery range has not b...</td>\n",
       "      <td>0</td>\n",
       "      <td>0</td>\n",
       "      <td>21.0</td>\n",
       "      <td>220504406</td>\n",
       "      <td>POINT (-122.299965 47.94171)</td>\n",
       "      <td>PUGET SOUND ENERGY INC</td>\n",
       "      <td>5.306104e+10</td>\n",
       "    </tr>\n",
       "    <tr>\n",
       "      <th>166798</th>\n",
       "      <td>1G1RH6E43D</td>\n",
       "      <td>Lewis</td>\n",
       "      <td>Mossyrock</td>\n",
       "      <td>WA</td>\n",
       "      <td>98564.0</td>\n",
       "      <td>2013</td>\n",
       "      <td>CHEVROLET</td>\n",
       "      <td>VOLT</td>\n",
       "      <td>Plug-in Hybrid Electric Vehicle (PHEV)</td>\n",
       "      <td>Clean Alternative Fuel Vehicle Eligible</td>\n",
       "      <td>38</td>\n",
       "      <td>0</td>\n",
       "      <td>20.0</td>\n",
       "      <td>156418475</td>\n",
       "      <td>POINT (-122.487535 46.5290135)</td>\n",
       "      <td>BONNEVILLE POWER ADMINISTRATION||CITY OF TACOM...</td>\n",
       "      <td>5.304197e+10</td>\n",
       "    </tr>\n",
       "    <tr>\n",
       "      <th>166799</th>\n",
       "      <td>5YJSA1E27H</td>\n",
       "      <td>Pierce</td>\n",
       "      <td>Gig Harbor</td>\n",
       "      <td>WA</td>\n",
       "      <td>98332.0</td>\n",
       "      <td>2017</td>\n",
       "      <td>TESLA</td>\n",
       "      <td>MODEL S</td>\n",
       "      <td>Battery Electric Vehicle (BEV)</td>\n",
       "      <td>Clean Alternative Fuel Vehicle Eligible</td>\n",
       "      <td>210</td>\n",
       "      <td>0</td>\n",
       "      <td>26.0</td>\n",
       "      <td>169045789</td>\n",
       "      <td>POINT (-122.589645 47.342345)</td>\n",
       "      <td>BONNEVILLE POWER ADMINISTRATION||CITY OF TACOM...</td>\n",
       "      <td>5.305307e+10</td>\n",
       "    </tr>\n",
       "  </tbody>\n",
       "</table>\n",
       "<p>166800 rows × 17 columns</p>\n",
       "</div>"
      ],
      "text/plain": [
       "        VIN (1-10)     County        City State  Postal Code  Model_Year  \\\n",
       "0       3C3CFFGE4E     Yakima      Yakima    WA      98902.0        2014   \n",
       "1       5YJXCBE40H   Thurston     Olympia    WA      98513.0        2017   \n",
       "2       3MW39FS03P       King      Renton    WA      98058.0        2023   \n",
       "3       7PDSGABA8P  Snohomish     Bothell    WA      98012.0        2023   \n",
       "4       5YJ3E1EB8L       King        Kent    WA      98031.0        2020   \n",
       "...            ...        ...         ...   ...          ...         ...   \n",
       "166795  3FA6P0SU4D    Spokane     Spokane    WA      99223.0        2013   \n",
       "166796  5YJYGDEE5M       King   Sammamish    WA      98074.0        2021   \n",
       "166797  7SAYGDEE5N  Snohomish    Mukilteo    WA      98275.0        2022   \n",
       "166798  1G1RH6E43D      Lewis   Mossyrock    WA      98564.0        2013   \n",
       "166799  5YJSA1E27H     Pierce  Gig Harbor    WA      98332.0        2017   \n",
       "\n",
       "             Make    Model                   Electric_Vehicle_Type  \\\n",
       "0            FIAT      500          Battery Electric Vehicle (BEV)   \n",
       "1           TESLA  MODEL X          Battery Electric Vehicle (BEV)   \n",
       "2             BMW     330E  Plug-in Hybrid Electric Vehicle (PHEV)   \n",
       "3          RIVIAN      R1S          Battery Electric Vehicle (BEV)   \n",
       "4           TESLA  MODEL 3          Battery Electric Vehicle (BEV)   \n",
       "...           ...      ...                                     ...   \n",
       "166795       FORD   FUSION  Plug-in Hybrid Electric Vehicle (PHEV)   \n",
       "166796      TESLA  MODEL Y          Battery Electric Vehicle (BEV)   \n",
       "166797      TESLA  MODEL Y          Battery Electric Vehicle (BEV)   \n",
       "166798  CHEVROLET     VOLT  Plug-in Hybrid Electric Vehicle (PHEV)   \n",
       "166799      TESLA  MODEL S          Battery Electric Vehicle (BEV)   \n",
       "\n",
       "        Clean Alternative Fuel Vehicle (CAFV) Eligibility  Electric_Range  \\\n",
       "0                 Clean Alternative Fuel Vehicle Eligible              87   \n",
       "1                 Clean Alternative Fuel Vehicle Eligible             200   \n",
       "2                   Not eligible due to low battery range              20   \n",
       "3       Eligibility unknown as battery range has not b...               0   \n",
       "4                 Clean Alternative Fuel Vehicle Eligible             322   \n",
       "...                                                   ...             ...   \n",
       "166795              Not eligible due to low battery range              19   \n",
       "166796  Eligibility unknown as battery range has not b...               0   \n",
       "166797  Eligibility unknown as battery range has not b...               0   \n",
       "166798            Clean Alternative Fuel Vehicle Eligible              38   \n",
       "166799            Clean Alternative Fuel Vehicle Eligible             210   \n",
       "\n",
       "       Base MSRP  Legislative District  DOL Vehicle ID  \\\n",
       "0              0                  14.0         1593721   \n",
       "1              0                   2.0       257167501   \n",
       "2              0                  11.0       224071816   \n",
       "3              0                  21.0       260084653   \n",
       "4              0                  33.0       253771913   \n",
       "...          ...                   ...             ...   \n",
       "166795         0                   6.0       239527123   \n",
       "166796         0                  45.0       148715479   \n",
       "166797         0                  21.0       220504406   \n",
       "166798         0                  20.0       156418475   \n",
       "166799         0                  26.0       169045789   \n",
       "\n",
       "                       Vehicle Location  \\\n",
       "0        POINT (-120.524012 46.5973939)   \n",
       "1          POINT (-122.817545 46.98876)   \n",
       "2       POINT (-122.1298876 47.4451257)   \n",
       "3           POINT (-122.1873 47.820245)   \n",
       "4       POINT (-122.2012521 47.3931814)   \n",
       "...                                 ...   \n",
       "166795     POINT (-117.369705 47.62637)   \n",
       "166796  POINT (-122.0313266 47.6285782)   \n",
       "166797     POINT (-122.299965 47.94171)   \n",
       "166798   POINT (-122.487535 46.5290135)   \n",
       "166799    POINT (-122.589645 47.342345)   \n",
       "\n",
       "                                         Electric Utility  2020 Census Tract  \n",
       "0                                              PACIFICORP       5.307700e+10  \n",
       "1                                  PUGET SOUND ENERGY INC       5.306701e+10  \n",
       "2           PUGET SOUND ENERGY INC||CITY OF TACOMA - (WA)       5.303303e+10  \n",
       "3                                  PUGET SOUND ENERGY INC       5.306105e+10  \n",
       "4           PUGET SOUND ENERGY INC||CITY OF TACOMA - (WA)       5.303303e+10  \n",
       "...                                                   ...                ...  \n",
       "166795  BONNEVILLE POWER ADMINISTRATION||AVISTA CORP||...       5.306300e+10  \n",
       "166796      PUGET SOUND ENERGY INC||CITY OF TACOMA - (WA)       5.303303e+10  \n",
       "166797                             PUGET SOUND ENERGY INC       5.306104e+10  \n",
       "166798  BONNEVILLE POWER ADMINISTRATION||CITY OF TACOM...       5.304197e+10  \n",
       "166799  BONNEVILLE POWER ADMINISTRATION||CITY OF TACOM...       5.305307e+10  \n",
       "\n",
       "[166800 rows x 17 columns]"
      ]
     },
     "execution_count": 4,
     "metadata": {},
     "output_type": "execute_result"
    }
   ],
   "source": [
    "df=pd.read_csv(\"/Users/imanqureshi/Downloads/Electric_Vehicle_Population_Data_20240202.csv\")\n",
    "df.rename(columns = {'Model Year':'Model_Year'}, inplace = True)\n",
    "df.rename(columns = {'Electric Vehicle Type':'Electric_Vehicle_Type'}, inplace = True)\n",
    "df.rename(columns = {'Electric Range':'Electric_Range'}, inplace = True)\n",
    "\n",
    "df"
   ]
  },
  {
   "cell_type": "code",
   "execution_count": 5,
   "id": "9e100ffd-17e7-451c-afd3-73336de02481",
   "metadata": {},
   "outputs": [
    {
     "data": {
      "text/plain": [
       "39"
      ]
     },
     "execution_count": 5,
     "metadata": {},
     "output_type": "execute_result"
    }
   ],
   "source": [
    "df['Make'].nunique()"
   ]
  },
  {
   "cell_type": "code",
   "execution_count": 6,
   "id": "69f14c48-1a06-40d9-90a2-5b047e70e048",
   "metadata": {},
   "outputs": [
    {
     "data": {
      "text/plain": [
       "array(['FIAT', 'TESLA', 'BMW', 'RIVIAN', 'CHRYSLER', 'CHEVROLET', 'KIA',\n",
       "       'FORD', 'TOYOTA', 'NISSAN', 'MITSUBISHI', 'HONDA', 'AUDI', 'JEEP',\n",
       "       'VOLVO', 'HYUNDAI', 'VOLKSWAGEN', 'SUBARU', 'LUCID', 'MINI',\n",
       "       'POLESTAR', 'SMART', 'LINCOLN', 'MERCEDES-BENZ', 'LEXUS',\n",
       "       'PORSCHE', 'ALFA ROMEO', 'DODGE', 'JAGUAR', 'CADILLAC',\n",
       "       'LAND ROVER', 'MAZDA', 'GENESIS', 'FISKER', 'GMC', 'TH!NK',\n",
       "       'WHEEGO ELECTRIC CARS', 'AZURE DYNAMICS', 'BENTLEY'], dtype=object)"
      ]
     },
     "execution_count": 6,
     "metadata": {},
     "output_type": "execute_result"
    }
   ],
   "source": [
    "df['Make'].unique()"
   ]
  },
  {
   "cell_type": "code",
   "execution_count": 7,
   "id": "f1374af6-536d-4c65-aca1-357140915035",
   "metadata": {},
   "outputs": [
    {
     "data": {
      "text/html": [
       "<div>\n",
       "<style scoped>\n",
       "    .dataframe tbody tr th:only-of-type {\n",
       "        vertical-align: middle;\n",
       "    }\n",
       "\n",
       "    .dataframe tbody tr th {\n",
       "        vertical-align: top;\n",
       "    }\n",
       "\n",
       "    .dataframe thead th {\n",
       "        text-align: right;\n",
       "    }\n",
       "</style>\n",
       "<table border=\"1\" class=\"dataframe\">\n",
       "  <thead>\n",
       "    <tr style=\"text-align: right;\">\n",
       "      <th></th>\n",
       "      <th>Make</th>\n",
       "      <th>Model</th>\n",
       "      <th>Year</th>\n",
       "      <th>Range</th>\n",
       "      <th>number_Sold</th>\n",
       "    </tr>\n",
       "  </thead>\n",
       "  <tbody>\n",
       "    <tr>\n",
       "      <th>0</th>\n",
       "      <td>TESLA</td>\n",
       "      <td>MODEL Y</td>\n",
       "      <td>2023</td>\n",
       "      <td>0</td>\n",
       "      <td>32822</td>\n",
       "    </tr>\n",
       "    <tr>\n",
       "      <th>1</th>\n",
       "      <td>TESLA</td>\n",
       "      <td>MODEL 3</td>\n",
       "      <td>2020</td>\n",
       "      <td>322</td>\n",
       "      <td>28926</td>\n",
       "    </tr>\n",
       "    <tr>\n",
       "      <th>2</th>\n",
       "      <td>NISSAN</td>\n",
       "      <td>LEAF</td>\n",
       "      <td>2013</td>\n",
       "      <td>75</td>\n",
       "      <td>13274</td>\n",
       "    </tr>\n",
       "    <tr>\n",
       "      <th>3</th>\n",
       "      <td>TESLA</td>\n",
       "      <td>MODEL S</td>\n",
       "      <td>2017</td>\n",
       "      <td>210</td>\n",
       "      <td>7611</td>\n",
       "    </tr>\n",
       "    <tr>\n",
       "      <th>4</th>\n",
       "      <td>CHEVROLET</td>\n",
       "      <td>BOLT EV</td>\n",
       "      <td>2017</td>\n",
       "      <td>238</td>\n",
       "      <td>6413</td>\n",
       "    </tr>\n",
       "    <tr>\n",
       "      <th>5</th>\n",
       "      <td>TESLA</td>\n",
       "      <td>MODEL X</td>\n",
       "      <td>2017</td>\n",
       "      <td>200</td>\n",
       "      <td>5429</td>\n",
       "    </tr>\n",
       "    <tr>\n",
       "      <th>6</th>\n",
       "      <td>CHEVROLET</td>\n",
       "      <td>VOLT</td>\n",
       "      <td>2018</td>\n",
       "      <td>53</td>\n",
       "      <td>4825</td>\n",
       "    </tr>\n",
       "    <tr>\n",
       "      <th>7</th>\n",
       "      <td>VOLKSWAGEN</td>\n",
       "      <td>ID.4</td>\n",
       "      <td>2023</td>\n",
       "      <td>0</td>\n",
       "      <td>3647</td>\n",
       "    </tr>\n",
       "    <tr>\n",
       "      <th>8</th>\n",
       "      <td>JEEP</td>\n",
       "      <td>WRANGLER</td>\n",
       "      <td>2022</td>\n",
       "      <td>22</td>\n",
       "      <td>3161</td>\n",
       "    </tr>\n",
       "    <tr>\n",
       "      <th>9</th>\n",
       "      <td>FORD</td>\n",
       "      <td>MUSTANG MACH-E</td>\n",
       "      <td>2023</td>\n",
       "      <td>0</td>\n",
       "      <td>3107</td>\n",
       "    </tr>\n",
       "    <tr>\n",
       "      <th>10</th>\n",
       "      <td>KIA</td>\n",
       "      <td>NIRO</td>\n",
       "      <td>2019</td>\n",
       "      <td>239</td>\n",
       "      <td>3096</td>\n",
       "    </tr>\n",
       "    <tr>\n",
       "      <th>11</th>\n",
       "      <td>CHRYSLER</td>\n",
       "      <td>PACIFICA</td>\n",
       "      <td>2018</td>\n",
       "      <td>33</td>\n",
       "      <td>2878</td>\n",
       "    </tr>\n",
       "    <tr>\n",
       "      <th>12</th>\n",
       "      <td>TOYOTA</td>\n",
       "      <td>PRIUS PRIME</td>\n",
       "      <td>2017</td>\n",
       "      <td>25</td>\n",
       "      <td>2597</td>\n",
       "    </tr>\n",
       "    <tr>\n",
       "      <th>13</th>\n",
       "      <td>BMW</td>\n",
       "      <td>X5</td>\n",
       "      <td>2024</td>\n",
       "      <td>39</td>\n",
       "      <td>2301</td>\n",
       "    </tr>\n",
       "    <tr>\n",
       "      <th>14</th>\n",
       "      <td>HYUNDAI</td>\n",
       "      <td>IONIQ 5</td>\n",
       "      <td>2023</td>\n",
       "      <td>0</td>\n",
       "      <td>2250</td>\n",
       "    </tr>\n",
       "  </tbody>\n",
       "</table>\n",
       "</div>"
      ],
      "text/plain": [
       "          Make           Model  Year  Range  number_Sold\n",
       "0        TESLA         MODEL Y  2023      0        32822\n",
       "1        TESLA         MODEL 3  2020    322        28926\n",
       "2       NISSAN            LEAF  2013     75        13274\n",
       "3        TESLA         MODEL S  2017    210         7611\n",
       "4    CHEVROLET         BOLT EV  2017    238         6413\n",
       "5        TESLA         MODEL X  2017    200         5429\n",
       "6    CHEVROLET            VOLT  2018     53         4825\n",
       "7   VOLKSWAGEN            ID.4  2023      0         3647\n",
       "8         JEEP        WRANGLER  2022     22         3161\n",
       "9         FORD  MUSTANG MACH-E  2023      0         3107\n",
       "10         KIA            NIRO  2019    239         3096\n",
       "11    CHRYSLER        PACIFICA  2018     33         2878\n",
       "12      TOYOTA     PRIUS PRIME  2017     25         2597\n",
       "13         BMW              X5  2024     39         2301\n",
       "14     HYUNDAI         IONIQ 5  2023      0         2250"
      ]
     },
     "execution_count": 7,
     "metadata": {},
     "output_type": "execute_result"
    }
   ],
   "source": [
    "#SORTED BY YEAR\n",
    "#d='SELECT DISTINCT(Make), Model,Model_Year as Year,Electric_Range as Range, COUNT(Make) as number_Sold FROM df GROUP BY Model ORDER BY Year desc'\n",
    "#SORTED BY NUMBER OF CARS SOLD\n",
    "d='SELECT DISTINCT(Make), Model,Model_Year as Year,Electric_Range as Range, COUNT(Make) as number_Sold FROM df GROUP BY Model ORDER BY number_Sold desc'\n",
    "sortedCars=psql.sqldf(d)\n",
    "sortedCars.head(15)\n",
    "\n"
   ]
  },
  {
   "cell_type": "code",
   "execution_count": 8,
   "id": "868c4944-5298-45d0-9b65-dbeb9e268e3c",
   "metadata": {},
   "outputs": [
    {
     "data": {
      "image/png": "[encoded data removed]",
      "text/plain": [
       "<Figure size 432x288 with 1 Axes>"
      ]
     },
     "metadata": {
      "needs_background": "light"
     },
     "output_type": "display_data"
    }
   ],
   "source": [
    "plt.bar(sortedCars.head(10)['Model'], sortedCars.head(10)['number_Sold'])\n",
    "plt.xlabel('Model')\n",
    "plt.ylabel('Number of Cars Sold')\n",
    "plt.title('EV/Hybrid Car Sales')\n",
    "plt.xticks(rotation=75)\n",
    "plt.show()"
   ]
  },
  {
   "cell_type": "code",
   "execution_count": 9,
   "id": "c455fc58-f7dd-4e85-be18-27805bd962d3",
   "metadata": {},
   "outputs": [
    {
     "data": {
      "text/plain": [
       "(138, 5)"
      ]
     },
     "execution_count": 9,
     "metadata": {},
     "output_type": "execute_result"
    }
   ],
   "source": [
    "sortedCars.shape"
   ]
  },
  {
   "cell_type": "code",
   "execution_count": 10,
   "id": "bd62fef7-3fb4-4526-90d8-1f46abc17c48",
   "metadata": {},
   "outputs": [
    {
     "name": "stdout",
     "output_type": "stream",
     "text": [
      "<class 'pandas.core.frame.DataFrame'>\n",
      "RangeIndex: 138 entries, 0 to 137\n",
      "Data columns (total 5 columns):\n",
      " #   Column       Non-Null Count  Dtype \n",
      "---  ------       --------------  ----- \n",
      " 0   Make         138 non-null    object\n",
      " 1   Model        138 non-null    object\n",
      " 2   Year         138 non-null    int64 \n",
      " 3   Range        138 non-null    int64 \n",
      " 4   number_Sold  138 non-null    int64 \n",
      "dtypes: int64(3), object(2)\n",
      "memory usage: 5.5+ KB\n"
     ]
    }
   ],
   "source": [
    "sortedCars.info()"
   ]
  },
  {
   "cell_type": "code",
   "execution_count": 11,
   "id": "f373e50e-7f59-4a80-989f-44b00d29e608",
   "metadata": {},
   "outputs": [
    {
     "name": "stdout",
     "output_type": "stream",
     "text": [
      "['TESLA' 'NISSAN' 'CHEVROLET' 'VOLKSWAGEN' 'JEEP' 'FORD' 'KIA' 'CHRYSLER'\n",
      " 'TOYOTA' 'BMW' 'HYUNDAI' 'RIVIAN' 'VOLVO' 'AUDI' 'MITSUBISHI' 'POLESTAR'\n",
      " 'HONDA' 'FIAT' 'SUBARU' 'MINI' 'PORSCHE' 'MAZDA' 'MERCEDES-BENZ' 'LUCID'\n",
      " 'JAGUAR' 'LEXUS' 'LINCOLN' 'SMART' 'CADILLAC' 'GENESIS' 'LAND ROVER'\n",
      " 'ALFA ROMEO' 'DODGE' 'FISKER' 'AZURE DYNAMICS' 'TH!NK'\n",
      " 'WHEEGO ELECTRIC CARS' 'GMC' 'BENTLEY']\n",
      "['MODEL Y' 'MODEL 3' 'LEAF' 'MODEL S' 'BOLT EV' 'MODEL X' 'VOLT' 'ID.4'\n",
      " 'WRANGLER' 'MUSTANG MACH-E' 'NIRO' 'PACIFICA' 'PRIUS PRIME' 'X5'\n",
      " 'IONIQ 5' 'EV6' 'I3' 'RAV4 PRIME' 'FUSION' 'R1S' 'R1T' 'BOLT EUV' 'C-MAX'\n",
      " 'XC90' 'F-150' 'E-TRON' 'E-GOLF' 'XC60' 'I4' 'XC40' 'GRAND CHEROKEE'\n",
      " 'PRIUS PLUG-IN' 'OUTLANDER' 'PS2' 'CLARITY' '500' 'SOLTERRA' 'IX' 'Q5 E'\n",
      " 'KONA ELECTRIC' 'HARDTOP' 'TAYCAN' 'SORENTO' 'ARIYA' 'A3' 'SPORTAGE' 'Q4'\n",
      " '330E' '530E' 'C40' 'SOUL' 'CX-90' 'ESCAPE' 'CAYENNE' 'EDV' 'TRANSIT'\n",
      " 'X3' 'EQB-CLASS' 'IONIQ 6' 'SPARK' 'FOCUS' 'AIR' 'Q8' 'EQE-CLASS SUV'\n",
      " 'BZ4X' 'IONIQ' 'I-PACE' 'KONA' 'COUNTRYMAN' 'SOUL EV' 'EQS-CLASS SUV'\n",
      " 'GLC-CLASS' 'SANTA FE' 'EQS-CLASS SEDAN' 'TUCSON' 'E-TRON SPORTBACK' 'NX'\n",
      " 'AVIATOR' 'FORTWO ELECTRIC DRIVE' 'LYRIQ' 'RZ 450E' 'S60' 'Q5'\n",
      " 'E-TRON GT' 'PANAMERA' 'GV60' 'OPTIMA' 'CORSAIR' 'EQE-CLASS SEDAN'\n",
      " 'B-CLASS' 'PRIUS' 'I8' 'ELR' 'SONATA' 'CROSSTREK' 'FORTWO' 'I-MIEV'\n",
      " 'RAV4' 'EQ FORTWO' 'ROADSTER' 'V60' 'GLE-CLASS' 'RANGE ROVER SPORT'\n",
      " 'RS E-TRON GT' '740E' 'S90' 'TONALE' 'HORNET' 'I5' 'GV70' 'RANGE ROVER'\n",
      " 'C-CLASS' 'KARMA' 'G80' 'CT6' 'OCEAN' 'A7' 'BLAZER EV' 'RANGER' 'EV9'\n",
      " 'S-CLASS' 'ACCORD' '745E' 'TRANSIT CONNECT ELECTRIC' 'I7' 'SILVERADO EV'\n",
      " 'CITY' 'WHEEGO' 'A8 E' 'XM' 'MX-30' 'HUMMER EV PICKUP' 'FLYING SPUR'\n",
      " '745LE' 'SQ8' 'S-10 PICKUP' 'BENTAYGA' '918']\n",
      "[2023 2020 2013 2017 2018 2022 2019 2024 2015 2014 2021 2016 2012 2008\n",
      " 2000 2011 2010 1997]\n"
     ]
    }
   ],
   "source": [
    "print(sortedCars['Make'].unique())\n",
    "print(sortedCars['Model'].unique())\n",
    "print(sortedCars['Year'].unique())\n"
   ]
  },
  {
   "cell_type": "code",
   "execution_count": 12,
   "id": "4dba7d30-baca-47f4-b339-75d24902a026",
   "metadata": {},
   "outputs": [
    {
     "data": {
      "text/html": [
       "<div>\n",
       "<style scoped>\n",
       "    .dataframe tbody tr th:only-of-type {\n",
       "        vertical-align: middle;\n",
       "    }\n",
       "\n",
       "    .dataframe tbody tr th {\n",
       "        vertical-align: top;\n",
       "    }\n",
       "\n",
       "    .dataframe thead th {\n",
       "        text-align: right;\n",
       "    }\n",
       "</style>\n",
       "<table border=\"1\" class=\"dataframe\">\n",
       "  <thead>\n",
       "    <tr style=\"text-align: right;\">\n",
       "      <th></th>\n",
       "      <th>Make</th>\n",
       "      <th>Model</th>\n",
       "      <th>Year</th>\n",
       "      <th>Range</th>\n",
       "      <th>number_Sold</th>\n",
       "    </tr>\n",
       "  </thead>\n",
       "  <tbody>\n",
       "    <tr>\n",
       "      <th>0</th>\n",
       "      <td>TESLA</td>\n",
       "      <td>MODEL Y</td>\n",
       "      <td>2020</td>\n",
       "      <td>0</td>\n",
       "      <td>32822</td>\n",
       "    </tr>\n",
       "    <tr>\n",
       "      <th>1</th>\n",
       "      <td>TESLA</td>\n",
       "      <td>MODEL 3</td>\n",
       "      <td>2020</td>\n",
       "      <td>322</td>\n",
       "      <td>28926</td>\n",
       "    </tr>\n",
       "    <tr>\n",
       "      <th>2</th>\n",
       "      <td>NISSAN</td>\n",
       "      <td>LEAF</td>\n",
       "      <td>2020</td>\n",
       "      <td>75</td>\n",
       "      <td>13274</td>\n",
       "    </tr>\n",
       "    <tr>\n",
       "      <th>3</th>\n",
       "      <td>TESLA</td>\n",
       "      <td>MODEL S</td>\n",
       "      <td>2020</td>\n",
       "      <td>210</td>\n",
       "      <td>7611</td>\n",
       "    </tr>\n",
       "    <tr>\n",
       "      <th>4</th>\n",
       "      <td>CHEVROLET</td>\n",
       "      <td>BOLT EV</td>\n",
       "      <td>2020</td>\n",
       "      <td>238</td>\n",
       "      <td>6413</td>\n",
       "    </tr>\n",
       "  </tbody>\n",
       "</table>\n",
       "</div>"
      ],
      "text/plain": [
       "        Make    Model  Year  Range  number_Sold\n",
       "0      TESLA  MODEL Y  2020      0        32822\n",
       "1      TESLA  MODEL 3  2020    322        28926\n",
       "2     NISSAN     LEAF  2020     75        13274\n",
       "3      TESLA  MODEL S  2020    210         7611\n",
       "4  CHEVROLET  BOLT EV  2020    238         6413"
      ]
     },
     "execution_count": 12,
     "metadata": {},
     "output_type": "execute_result"
    }
   ],
   "source": [
    "sortedCars[\"Year\"] = 2020\n",
    "sortedCars.head()"
   ]
  },
  {
   "cell_type": "code",
   "execution_count": 13,
   "id": "79e6ea98-ba3c-4346-a87f-af2b8dfb4b76",
   "metadata": {},
   "outputs": [
    {
     "name": "stderr",
     "output_type": "stream",
     "text": [
      "<ipython-input-13-84a13998bacf>:1: SettingWithCopyWarning: \n",
      "A value is trying to be set on a copy of a slice from a DataFrame\n",
      "\n",
      "See the caveats in the documentation: https://pandas.pydata.org/pandas-docs/stable/user_guide/indexing.html#returning-a-view-versus-a-copy\n",
      "  sortedCars[\"Range\"][0]=310\n"
     ]
    }
   ],
   "source": [
    "sortedCars[\"Range\"][0]=310\n"
   ]
  },
  {
   "cell_type": "code",
   "execution_count": 22,
   "id": "60a7a46d-2d71-4f79-a930-85108d546da1",
   "metadata": {},
   "outputs": [],
   "source": [
    "carCorr=sortedCars.corr()"
   ]
  },
  {
   "cell_type": "code",
   "execution_count": 23,
   "id": "73cb5ac3-43bc-4651-8e46-a6c0ad03d7e0",
   "metadata": {},
   "outputs": [
    {
     "data": {
      "text/plain": [
       "<AxesSubplot:>"
      ]
     },
     "execution_count": 23,
     "metadata": {},
     "output_type": "execute_result"
    },
    {
     "data": {
      "image/png": "[encoded data removed]",
      "text/plain": [
       "<Figure size 432x288 with 2 Axes>"
      ]
     },
     "metadata": {
      "needs_background": "light"
     },
     "output_type": "display_data"
    }
   ],
   "source": [
    "sns.heatmap(carCorr)"
   ]
  },
  {
   "cell_type": "code",
   "execution_count": 24,
   "id": "071aecd9-55bc-41c5-9081-6bb4155f3787",
   "metadata": {},
   "outputs": [],
   "source": [
    "from sklearn.model_selection import train_test_split"
   ]
  },
  {
   "cell_type": "code",
   "execution_count": 26,
   "id": "30646804-06c2-498c-8d04-e9e1867cec01",
   "metadata": {},
   "outputs": [],
   "source": [
    "x=sortedCars['Range']\n",
    "y=sortedCars['number_Sold']\n",
    "\n",
    "X_train,X_test,Y_train,Y_test=train_test_split(x,y,test_size=0.4,random_state=23)\n",
    "X_train=np.array(X_train).reshape(-1,1)"
   ]
  },
  {
   "cell_type": "code",
   "execution_count": 28,
   "id": "a10c1a9c-84c2-455e-aa3e-6bf1d8781c61",
   "metadata": {},
   "outputs": [],
   "source": [
    "from sklearn.linear_model import LinearRegression"
   ]
  },
  {
   "cell_type": "code",
   "execution_count": 29,
   "id": "3907fec0-3cfe-4933-8fa9-c1363b3fb6b7",
   "metadata": {},
   "outputs": [],
   "source": [
    "lr=LinearRegression()"
   ]
  },
  {
   "cell_type": "code",
   "execution_count": 31,
   "id": "5f4da618-960d-4a5c-938f-5bcbb4656876",
   "metadata": {},
   "outputs": [
    {
     "data": {
      "text/plain": [
       "LinearRegression()"
      ]
     },
     "execution_count": 31,
     "metadata": {},
     "output_type": "execute_result"
    }
   ],
   "source": [
    "lr.fit(X_train,Y_train)"
   ]
  },
  {
   "cell_type": "code",
   "execution_count": 32,
   "id": "605479f0-efb4-482c-85fc-84ccd86a413b",
   "metadata": {},
   "outputs": [],
   "source": [
    "c=lr.intercept_"
   ]
  },
  {
   "cell_type": "code",
   "execution_count": 33,
   "id": "7448b182-a64d-40a1-bd74-6d0217fb2974",
   "metadata": {},
   "outputs": [
    {
     "data": {
      "text/plain": [
       "-646.7791175216162"
      ]
     },
     "execution_count": 33,
     "metadata": {},
     "output_type": "execute_result"
    }
   ],
   "source": [
    "c"
   ]
  },
  {
   "cell_type": "code",
   "execution_count": 34,
   "id": "e3095bdb-8769-4ad2-8f49-09181ec95b4f",
   "metadata": {},
   "outputs": [],
   "source": [
    "m=lr.coef_"
   ]
  },
  {
   "cell_type": "code",
   "execution_count": 35,
   "id": "89fd8a3a-51c4-446a-8043-d38a16a87131",
   "metadata": {},
   "outputs": [
    {
     "data": {
      "text/plain": [
       "array([44.56805403])"
      ]
     },
     "execution_count": 35,
     "metadata": {},
     "output_type": "execute_result"
    }
   ],
   "source": [
    "m"
   ]
  },
  {
   "cell_type": "code",
   "execution_count": 37,
   "id": "92e7823c-0799-400b-9dba-33d6546787a3",
   "metadata": {},
   "outputs": [],
   "source": [
    "Y_pred_train=m*X_train+c"
   ]
  },
  {
   "cell_type": "code",
   "execution_count": 38,
   "id": "08ce5ad2-5888-4e80-a11b-574471c9c9a9",
   "metadata": {},
   "outputs": [
    {
     "data": {
      "text/plain": [
       "array([[ -646.77911752],\n",
       "       [ 4924.22763596],\n",
       "       [ 1046.80693554],\n",
       "       [ -646.77911752],\n",
       "       [  779.39861137],\n",
       "       [  823.9666654 ],\n",
       "       [ -646.77911752],\n",
       "       [  556.55834123],\n",
       "       [  -22.82636113],\n",
       "       [ 3810.02628526],\n",
       "       [  333.71807109],\n",
       "       [ 1938.16801609],\n",
       "       [ 1135.94304359],\n",
       "       [  110.87780095],\n",
       "       [  -22.82636113],\n",
       "       [  601.12639526],\n",
       "       [  779.39861137],\n",
       "       [ -201.09857724],\n",
       "       [  823.9666654 ],\n",
       "       [  422.85417915],\n",
       "       [  913.10277345],\n",
       "       [ -646.77911752],\n",
       "       [ 9158.1927686 ],\n",
       "       [ -646.77911752],\n",
       "       [ -646.77911752],\n",
       "       [ 3230.6415829 ],\n",
       "       [ -646.77911752],\n",
       "       [ -646.77911752],\n",
       "       [ -646.77911752],\n",
       "       [ 1046.80693554],\n",
       "       [ -646.77911752],\n",
       "       [  -67.39441516],\n",
       "       [13169.31763111],\n",
       "       [ 1938.16801609],\n",
       "       [ 1091.37498956],\n",
       "       [  155.44585498],\n",
       "       [  200.01390901],\n",
       "       [ 2740.39298859],\n",
       "       [ 1091.37498956],\n",
       "       [  110.87780095],\n",
       "       [ 2116.4402322 ],\n",
       "       [ 3230.6415829 ],\n",
       "       [  823.9666654 ],\n",
       "       [ 3810.02628526],\n",
       "       [ 8445.10390416],\n",
       "       [ -646.77911752],\n",
       "       [ -111.96246919],\n",
       "       [ -646.77911752],\n",
       "       [  645.69444929],\n",
       "       [  200.01390901],\n",
       "       [ -646.77911752],\n",
       "       [13704.13427945],\n",
       "       [  645.69444929],\n",
       "       [ -646.77911752],\n",
       "       [ -646.77911752],\n",
       "       [   66.30974692],\n",
       "       [ 3007.80131276],\n",
       "       [ -646.77911752],\n",
       "       [ -646.77911752],\n",
       "       [ -646.77911752],\n",
       "       [ -646.77911752],\n",
       "       [  289.15001706],\n",
       "       [ -646.77911752],\n",
       "       [ -646.77911752],\n",
       "       [  155.44585498],\n",
       "       [ -646.77911752],\n",
       "       [  734.83055734],\n",
       "       [ -646.77911752],\n",
       "       [ 4300.27487957],\n",
       "       [ -646.77911752],\n",
       "       [ 9069.05666055],\n",
       "       [ 9782.14552499],\n",
       "       [ -646.77911752],\n",
       "       [  467.42223317],\n",
       "       [ 1849.03190804],\n",
       "       [ 1715.32774595],\n",
       "       [ 1091.37498956],\n",
       "       [ -646.77911752],\n",
       "       [  -22.82636113],\n",
       "       [ -379.37079335],\n",
       "       [ 4255.70682554],\n",
       "       [ -646.77911752]])"
      ]
     },
     "execution_count": 38,
     "metadata": {},
     "output_type": "execute_result"
    }
   ],
   "source": [
    "Y_pred_train"
   ]
  },
  {
   "cell_type": "code",
   "execution_count": 39,
   "id": "3d349fd1-3c99-4b59-b5b7-e1ca80364716",
   "metadata": {},
   "outputs": [],
   "source": [
    "y_pred_train=lr.predict(X_train)"
   ]
  },
  {
   "cell_type": "code",
   "execution_count": 40,
   "id": "ffb85916-591b-444e-a68a-b1bb845f0115",
   "metadata": {},
   "outputs": [
    {
     "data": {
      "text/plain": [
       "array([ -646.77911752,  4924.22763596,  1046.80693554,  -646.77911752,\n",
       "         779.39861137,   823.9666654 ,  -646.77911752,   556.55834123,\n",
       "         -22.82636113,  3810.02628526,   333.71807109,  1938.16801609,\n",
       "        1135.94304359,   110.87780095,   -22.82636113,   601.12639526,\n",
       "         779.39861137,  -201.09857724,   823.9666654 ,   422.85417915,\n",
       "         913.10277345,  -646.77911752,  9158.1927686 ,  -646.77911752,\n",
       "        -646.77911752,  3230.6415829 ,  -646.77911752,  -646.77911752,\n",
       "        -646.77911752,  1046.80693554,  -646.77911752,   -67.39441516,\n",
       "       13169.31763111,  1938.16801609,  1091.37498956,   155.44585498,\n",
       "         200.01390901,  2740.39298859,  1091.37498956,   110.87780095,\n",
       "        2116.4402322 ,  3230.6415829 ,   823.9666654 ,  3810.02628526,\n",
       "        8445.10390416,  -646.77911752,  -111.96246919,  -646.77911752,\n",
       "         645.69444929,   200.01390901,  -646.77911752, 13704.13427945,\n",
       "         645.69444929,  -646.77911752,  -646.77911752,    66.30974692,\n",
       "        3007.80131276,  -646.77911752,  -646.77911752,  -646.77911752,\n",
       "        -646.77911752,   289.15001706,  -646.77911752,  -646.77911752,\n",
       "         155.44585498,  -646.77911752,   734.83055734,  -646.77911752,\n",
       "        4300.27487957,  -646.77911752,  9069.05666055,  9782.14552499,\n",
       "        -646.77911752,   467.42223317,  1849.03190804,  1715.32774595,\n",
       "        1091.37498956,  -646.77911752,   -22.82636113,  -379.37079335,\n",
       "        4255.70682554,  -646.77911752])"
      ]
     },
     "execution_count": 40,
     "metadata": {},
     "output_type": "execute_result"
    }
   ],
   "source": [
    "y_pred_train"
   ]
  },
  {
   "cell_type": "code",
   "execution_count": 41,
   "id": "02da71a4-8383-4ef7-a612-9399b35e46c6",
   "metadata": {},
   "outputs": [
    {
     "data": {
      "text/plain": [
       "<matplotlib.collections.PathCollection at 0x7fc8908ff880>"
      ]
     },
     "execution_count": 41,
     "metadata": {},
     "output_type": "execute_result"
    },
    {
     "data": {
      "image/png": "[encoded data removed]",
      "text/plain": [
       "<Figure size 432x288 with 1 Axes>"
      ]
     },
     "metadata": {
      "needs_background": "light"
     },
     "output_type": "display_data"
    }
   ],
   "source": [
    "plt.scatter(X_train,Y_train)\n"
   ]
  },
  {
   "cell_type": "code",
   "execution_count": null,
   "id": "62b3e720-fe13-4c70-b4a3-642ca5637a94",
   "metadata": {},
   "outputs": [],
   "source": []
  }
 ],
 "metadata": {
  "kernelspec": {
   "display_name": "Python 3",
   "language": "python",
   "name": "python3"
  },
  "language_info": {
   "codemirror_mode": {
    "name": "ipython",
    "version": 3
   },
   "file_extension": ".py",
   "mimetype": "text/x-python",
   "name": "python",
   "nbconvert_exporter": "python",
   "pygments_lexer": "ipython3",
   "version": "3.8.8"
  }
 },
 "nbformat": 4,
 "nbformat_minor": 5
}
